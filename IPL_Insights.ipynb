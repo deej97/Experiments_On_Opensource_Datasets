{
  "nbformat": 4,
  "nbformat_minor": 0,
  "metadata": {
    "colab": {
      "provenance": []
    },
    "kernelspec": {
      "name": "python3",
      "display_name": "Python 3"
    },
    "language_info": {
      "name": "python"
    }
  },
  "cells": [
    {
      "cell_type": "markdown",
      "source": [
        "**IPL Insights**\n",
        "\n",
        "Data Analysis and some visulaition insights on IPL dataset"
      ],
      "metadata": {
        "id": "beC0qUZfh4I8"
      }
    },
    {
      "cell_type": "markdown",
      "source": [
        "\n",
        "\n",
        "Dataset: https://www.kaggle.com/datasets/vora1011/ipl-2008-to-2021-all-match-dataset"
      ],
      "metadata": {
        "id": "5OBTKwlZgkC5"
      }
    },
    {
      "cell_type": "markdown",
      "source": [],
      "metadata": {
        "id": "yAIiyAcAh1NW"
      }
    },
    {
      "cell_type": "code",
      "execution_count": 1,
      "metadata": {
        "colab": {
          "base_uri": "https://localhost:8080/"
        },
        "id": "LUUGAT6yMbCT",
        "outputId": "c85acba6-539b-481a-9ecb-79975ed5fefd"
      },
      "outputs": [
        {
          "output_type": "stream",
          "name": "stdout",
          "text": [
            "Mounted at /content/drive\n"
          ]
        }
      ],
      "source": [
        "from google.colab import drive\n",
        "drive.mount('/content/drive')"
      ]
    },
    {
      "cell_type": "code",
      "source": [
        "import numpy as np\n",
        "import pandas as pd\n",
        "import matplotlib.pyplot as plt\n",
        "import seaborn as sns\n"
      ],
      "metadata": {
        "id": "IWjsJazxNLek"
      },
      "execution_count": 2,
      "outputs": []
    },
    {
      "cell_type": "code",
      "source": [
        "df=pd.read_csv('/content/drive/MyDrive/datasets/IPL_Ball_by_Ball_2008_2022/IPL_Ball_by_Ball_2008_2022.csv',encoding=\"utf8\")"
      ],
      "metadata": {
        "id": "UQFfQlEONUen"
      },
      "execution_count": 6,
      "outputs": []
    },
    {
      "cell_type": "code",
      "source": [
        "df.head()"
      ],
      "metadata": {
        "colab": {
          "base_uri": "https://localhost:8080/",
          "height": 330
        },
        "id": "lK0ciZqlN326",
        "outputId": "a0b1f378-ea0f-4bfe-c7b6-ba8b8c11913e"
      },
      "execution_count": 126,
      "outputs": [
        {
          "output_type": "execute_result",
          "data": {
            "text/plain": [
              "        ID  innings  overs  ballnumber       batter          bowler  \\\n",
              "0  1312200        1      0           1  YBK Jaiswal  Mohammed Shami   \n",
              "1  1312200        1      0           2  YBK Jaiswal  Mohammed Shami   \n",
              "2  1312200        1      0           3   JC Buttler  Mohammed Shami   \n",
              "3  1312200        1      0           4  YBK Jaiswal  Mohammed Shami   \n",
              "4  1312200        1      0           5  YBK Jaiswal  Mohammed Shami   \n",
              "\n",
              "   non-striker extra_type  batsman_run  extras_run  total_run  non_boundary  \\\n",
              "0   JC Buttler        NaN            0           0          0             0   \n",
              "1   JC Buttler    legbyes            0           1          1             0   \n",
              "2  YBK Jaiswal        NaN            1           0          1             0   \n",
              "3   JC Buttler        NaN            0           0          0             0   \n",
              "4   JC Buttler        NaN            0           0          0             0   \n",
              "\n",
              "   isWicketDelivery player_out kind fielders_involved       BattingTeam  \n",
              "0                 0        NaN  NaN               NaN  Rajasthan Royals  \n",
              "1                 0        NaN  NaN               NaN  Rajasthan Royals  \n",
              "2                 0        NaN  NaN               NaN  Rajasthan Royals  \n",
              "3                 0        NaN  NaN               NaN  Rajasthan Royals  \n",
              "4                 0        NaN  NaN               NaN  Rajasthan Royals  "
            ],
            "text/html": [
              "\n",
              "  <div id=\"df-03ee4c07-c759-4667-8c85-51d2e1267b2b\" class=\"colab-df-container\">\n",
              "    <div>\n",
              "<style scoped>\n",
              "    .dataframe tbody tr th:only-of-type {\n",
              "        vertical-align: middle;\n",
              "    }\n",
              "\n",
              "    .dataframe tbody tr th {\n",
              "        vertical-align: top;\n",
              "    }\n",
              "\n",
              "    .dataframe thead th {\n",
              "        text-align: right;\n",
              "    }\n",
              "</style>\n",
              "<table border=\"1\" class=\"dataframe\">\n",
              "  <thead>\n",
              "    <tr style=\"text-align: right;\">\n",
              "      <th></th>\n",
              "      <th>ID</th>\n",
              "      <th>innings</th>\n",
              "      <th>overs</th>\n",
              "      <th>ballnumber</th>\n",
              "      <th>batter</th>\n",
              "      <th>bowler</th>\n",
              "      <th>non-striker</th>\n",
              "      <th>extra_type</th>\n",
              "      <th>batsman_run</th>\n",
              "      <th>extras_run</th>\n",
              "      <th>total_run</th>\n",
              "      <th>non_boundary</th>\n",
              "      <th>isWicketDelivery</th>\n",
              "      <th>player_out</th>\n",
              "      <th>kind</th>\n",
              "      <th>fielders_involved</th>\n",
              "      <th>BattingTeam</th>\n",
              "    </tr>\n",
              "  </thead>\n",
              "  <tbody>\n",
              "    <tr>\n",
              "      <th>0</th>\n",
              "      <td>1312200</td>\n",
              "      <td>1</td>\n",
              "      <td>0</td>\n",
              "      <td>1</td>\n",
              "      <td>YBK Jaiswal</td>\n",
              "      <td>Mohammed Shami</td>\n",
              "      <td>JC Buttler</td>\n",
              "      <td>NaN</td>\n",
              "      <td>0</td>\n",
              "      <td>0</td>\n",
              "      <td>0</td>\n",
              "      <td>0</td>\n",
              "      <td>0</td>\n",
              "      <td>NaN</td>\n",
              "      <td>NaN</td>\n",
              "      <td>NaN</td>\n",
              "      <td>Rajasthan Royals</td>\n",
              "    </tr>\n",
              "    <tr>\n",
              "      <th>1</th>\n",
              "      <td>1312200</td>\n",
              "      <td>1</td>\n",
              "      <td>0</td>\n",
              "      <td>2</td>\n",
              "      <td>YBK Jaiswal</td>\n",
              "      <td>Mohammed Shami</td>\n",
              "      <td>JC Buttler</td>\n",
              "      <td>legbyes</td>\n",
              "      <td>0</td>\n",
              "      <td>1</td>\n",
              "      <td>1</td>\n",
              "      <td>0</td>\n",
              "      <td>0</td>\n",
              "      <td>NaN</td>\n",
              "      <td>NaN</td>\n",
              "      <td>NaN</td>\n",
              "      <td>Rajasthan Royals</td>\n",
              "    </tr>\n",
              "    <tr>\n",
              "      <th>2</th>\n",
              "      <td>1312200</td>\n",
              "      <td>1</td>\n",
              "      <td>0</td>\n",
              "      <td>3</td>\n",
              "      <td>JC Buttler</td>\n",
              "      <td>Mohammed Shami</td>\n",
              "      <td>YBK Jaiswal</td>\n",
              "      <td>NaN</td>\n",
              "      <td>1</td>\n",
              "      <td>0</td>\n",
              "      <td>1</td>\n",
              "      <td>0</td>\n",
              "      <td>0</td>\n",
              "      <td>NaN</td>\n",
              "      <td>NaN</td>\n",
              "      <td>NaN</td>\n",
              "      <td>Rajasthan Royals</td>\n",
              "    </tr>\n",
              "    <tr>\n",
              "      <th>3</th>\n",
              "      <td>1312200</td>\n",
              "      <td>1</td>\n",
              "      <td>0</td>\n",
              "      <td>4</td>\n",
              "      <td>YBK Jaiswal</td>\n",
              "      <td>Mohammed Shami</td>\n",
              "      <td>JC Buttler</td>\n",
              "      <td>NaN</td>\n",
              "      <td>0</td>\n",
              "      <td>0</td>\n",
              "      <td>0</td>\n",
              "      <td>0</td>\n",
              "      <td>0</td>\n",
              "      <td>NaN</td>\n",
              "      <td>NaN</td>\n",
              "      <td>NaN</td>\n",
              "      <td>Rajasthan Royals</td>\n",
              "    </tr>\n",
              "    <tr>\n",
              "      <th>4</th>\n",
              "      <td>1312200</td>\n",
              "      <td>1</td>\n",
              "      <td>0</td>\n",
              "      <td>5</td>\n",
              "      <td>YBK Jaiswal</td>\n",
              "      <td>Mohammed Shami</td>\n",
              "      <td>JC Buttler</td>\n",
              "      <td>NaN</td>\n",
              "      <td>0</td>\n",
              "      <td>0</td>\n",
              "      <td>0</td>\n",
              "      <td>0</td>\n",
              "      <td>0</td>\n",
              "      <td>NaN</td>\n",
              "      <td>NaN</td>\n",
              "      <td>NaN</td>\n",
              "      <td>Rajasthan Royals</td>\n",
              "    </tr>\n",
              "  </tbody>\n",
              "</table>\n",
              "</div>\n",
              "    <div class=\"colab-df-buttons\">\n",
              "\n",
              "  <div class=\"colab-df-container\">\n",
              "    <button class=\"colab-df-convert\" onclick=\"convertToInteractive('df-03ee4c07-c759-4667-8c85-51d2e1267b2b')\"\n",
              "            title=\"Convert this dataframe to an interactive table.\"\n",
              "            style=\"display:none;\">\n",
              "\n",
              "  <svg xmlns=\"http://www.w3.org/2000/svg\" height=\"24px\" viewBox=\"0 -960 960 960\">\n",
              "    <path d=\"M120-120v-720h720v720H120Zm60-500h600v-160H180v160Zm220 220h160v-160H400v160Zm0 220h160v-160H400v160ZM180-400h160v-160H180v160Zm440 0h160v-160H620v160ZM180-180h160v-160H180v160Zm440 0h160v-160H620v160Z\"/>\n",
              "  </svg>\n",
              "    </button>\n",
              "\n",
              "  <style>\n",
              "    .colab-df-container {\n",
              "      display:flex;\n",
              "      gap: 12px;\n",
              "    }\n",
              "\n",
              "    .colab-df-convert {\n",
              "      background-color: #E8F0FE;\n",
              "      border: none;\n",
              "      border-radius: 50%;\n",
              "      cursor: pointer;\n",
              "      display: none;\n",
              "      fill: #1967D2;\n",
              "      height: 32px;\n",
              "      padding: 0 0 0 0;\n",
              "      width: 32px;\n",
              "    }\n",
              "\n",
              "    .colab-df-convert:hover {\n",
              "      background-color: #E2EBFA;\n",
              "      box-shadow: 0px 1px 2px rgba(60, 64, 67, 0.3), 0px 1px 3px 1px rgba(60, 64, 67, 0.15);\n",
              "      fill: #174EA6;\n",
              "    }\n",
              "\n",
              "    .colab-df-buttons div {\n",
              "      margin-bottom: 4px;\n",
              "    }\n",
              "\n",
              "    [theme=dark] .colab-df-convert {\n",
              "      background-color: #3B4455;\n",
              "      fill: #D2E3FC;\n",
              "    }\n",
              "\n",
              "    [theme=dark] .colab-df-convert:hover {\n",
              "      background-color: #434B5C;\n",
              "      box-shadow: 0px 1px 3px 1px rgba(0, 0, 0, 0.15);\n",
              "      filter: drop-shadow(0px 1px 2px rgba(0, 0, 0, 0.3));\n",
              "      fill: #FFFFFF;\n",
              "    }\n",
              "  </style>\n",
              "\n",
              "    <script>\n",
              "      const buttonEl =\n",
              "        document.querySelector('#df-03ee4c07-c759-4667-8c85-51d2e1267b2b button.colab-df-convert');\n",
              "      buttonEl.style.display =\n",
              "        google.colab.kernel.accessAllowed ? 'block' : 'none';\n",
              "\n",
              "      async function convertToInteractive(key) {\n",
              "        const element = document.querySelector('#df-03ee4c07-c759-4667-8c85-51d2e1267b2b');\n",
              "        const dataTable =\n",
              "          await google.colab.kernel.invokeFunction('convertToInteractive',\n",
              "                                                    [key], {});\n",
              "        if (!dataTable) return;\n",
              "\n",
              "        const docLinkHtml = 'Like what you see? Visit the ' +\n",
              "          '<a target=\"_blank\" href=https://colab.research.google.com/notebooks/data_table.ipynb>data table notebook</a>'\n",
              "          + ' to learn more about interactive tables.';\n",
              "        element.innerHTML = '';\n",
              "        dataTable['output_type'] = 'display_data';\n",
              "        await google.colab.output.renderOutput(dataTable, element);\n",
              "        const docLink = document.createElement('div');\n",
              "        docLink.innerHTML = docLinkHtml;\n",
              "        element.appendChild(docLink);\n",
              "      }\n",
              "    </script>\n",
              "  </div>\n",
              "\n",
              "\n",
              "<div id=\"df-ce0be748-0b9d-43f9-98d7-3fca9eaaab3d\">\n",
              "  <button class=\"colab-df-quickchart\" onclick=\"quickchart('df-ce0be748-0b9d-43f9-98d7-3fca9eaaab3d')\"\n",
              "            title=\"Suggest charts\"\n",
              "            style=\"display:none;\">\n",
              "\n",
              "<svg xmlns=\"http://www.w3.org/2000/svg\" height=\"24px\"viewBox=\"0 0 24 24\"\n",
              "     width=\"24px\">\n",
              "    <g>\n",
              "        <path d=\"M19 3H5c-1.1 0-2 .9-2 2v14c0 1.1.9 2 2 2h14c1.1 0 2-.9 2-2V5c0-1.1-.9-2-2-2zM9 17H7v-7h2v7zm4 0h-2V7h2v10zm4 0h-2v-4h2v4z\"/>\n",
              "    </g>\n",
              "</svg>\n",
              "  </button>\n",
              "\n",
              "<style>\n",
              "  .colab-df-quickchart {\n",
              "      --bg-color: #E8F0FE;\n",
              "      --fill-color: #1967D2;\n",
              "      --hover-bg-color: #E2EBFA;\n",
              "      --hover-fill-color: #174EA6;\n",
              "      --disabled-fill-color: #AAA;\n",
              "      --disabled-bg-color: #DDD;\n",
              "  }\n",
              "\n",
              "  [theme=dark] .colab-df-quickchart {\n",
              "      --bg-color: #3B4455;\n",
              "      --fill-color: #D2E3FC;\n",
              "      --hover-bg-color: #434B5C;\n",
              "      --hover-fill-color: #FFFFFF;\n",
              "      --disabled-bg-color: #3B4455;\n",
              "      --disabled-fill-color: #666;\n",
              "  }\n",
              "\n",
              "  .colab-df-quickchart {\n",
              "    background-color: var(--bg-color);\n",
              "    border: none;\n",
              "    border-radius: 50%;\n",
              "    cursor: pointer;\n",
              "    display: none;\n",
              "    fill: var(--fill-color);\n",
              "    height: 32px;\n",
              "    padding: 0;\n",
              "    width: 32px;\n",
              "  }\n",
              "\n",
              "  .colab-df-quickchart:hover {\n",
              "    background-color: var(--hover-bg-color);\n",
              "    box-shadow: 0 1px 2px rgba(60, 64, 67, 0.3), 0 1px 3px 1px rgba(60, 64, 67, 0.15);\n",
              "    fill: var(--button-hover-fill-color);\n",
              "  }\n",
              "\n",
              "  .colab-df-quickchart-complete:disabled,\n",
              "  .colab-df-quickchart-complete:disabled:hover {\n",
              "    background-color: var(--disabled-bg-color);\n",
              "    fill: var(--disabled-fill-color);\n",
              "    box-shadow: none;\n",
              "  }\n",
              "\n",
              "  .colab-df-spinner {\n",
              "    border: 2px solid var(--fill-color);\n",
              "    border-color: transparent;\n",
              "    border-bottom-color: var(--fill-color);\n",
              "    animation:\n",
              "      spin 1s steps(1) infinite;\n",
              "  }\n",
              "\n",
              "  @keyframes spin {\n",
              "    0% {\n",
              "      border-color: transparent;\n",
              "      border-bottom-color: var(--fill-color);\n",
              "      border-left-color: var(--fill-color);\n",
              "    }\n",
              "    20% {\n",
              "      border-color: transparent;\n",
              "      border-left-color: var(--fill-color);\n",
              "      border-top-color: var(--fill-color);\n",
              "    }\n",
              "    30% {\n",
              "      border-color: transparent;\n",
              "      border-left-color: var(--fill-color);\n",
              "      border-top-color: var(--fill-color);\n",
              "      border-right-color: var(--fill-color);\n",
              "    }\n",
              "    40% {\n",
              "      border-color: transparent;\n",
              "      border-right-color: var(--fill-color);\n",
              "      border-top-color: var(--fill-color);\n",
              "    }\n",
              "    60% {\n",
              "      border-color: transparent;\n",
              "      border-right-color: var(--fill-color);\n",
              "    }\n",
              "    80% {\n",
              "      border-color: transparent;\n",
              "      border-right-color: var(--fill-color);\n",
              "      border-bottom-color: var(--fill-color);\n",
              "    }\n",
              "    90% {\n",
              "      border-color: transparent;\n",
              "      border-bottom-color: var(--fill-color);\n",
              "    }\n",
              "  }\n",
              "</style>\n",
              "\n",
              "  <script>\n",
              "    async function quickchart(key) {\n",
              "      const quickchartButtonEl =\n",
              "        document.querySelector('#' + key + ' button');\n",
              "      quickchartButtonEl.disabled = true;  // To prevent multiple clicks.\n",
              "      quickchartButtonEl.classList.add('colab-df-spinner');\n",
              "      try {\n",
              "        const charts = await google.colab.kernel.invokeFunction(\n",
              "            'suggestCharts', [key], {});\n",
              "      } catch (error) {\n",
              "        console.error('Error during call to suggestCharts:', error);\n",
              "      }\n",
              "      quickchartButtonEl.classList.remove('colab-df-spinner');\n",
              "      quickchartButtonEl.classList.add('colab-df-quickchart-complete');\n",
              "    }\n",
              "    (() => {\n",
              "      let quickchartButtonEl =\n",
              "        document.querySelector('#df-ce0be748-0b9d-43f9-98d7-3fca9eaaab3d button');\n",
              "      quickchartButtonEl.style.display =\n",
              "        google.colab.kernel.accessAllowed ? 'block' : 'none';\n",
              "    })();\n",
              "  </script>\n",
              "</div>\n",
              "\n",
              "    </div>\n",
              "  </div>\n"
            ],
            "application/vnd.google.colaboratory.intrinsic+json": {
              "type": "dataframe",
              "variable_name": "df"
            }
          },
          "metadata": {},
          "execution_count": 126
        }
      ]
    },
    {
      "cell_type": "markdown",
      "source": [
        "The dataset has each ball stats which has runs scored and if its wicket or not along with player and team names"
      ],
      "metadata": {
        "id": "BDXpXUZsibA_"
      }
    },
    {
      "cell_type": "code",
      "source": [
        "df.columns"
      ],
      "metadata": {
        "colab": {
          "base_uri": "https://localhost:8080/"
        },
        "id": "16sMIdNiONfb",
        "outputId": "0f1dc1f8-a5aa-4def-c979-75f7819b8303"
      },
      "execution_count": 10,
      "outputs": [
        {
          "output_type": "execute_result",
          "data": {
            "text/plain": [
              "Index(['ID', 'innings', 'overs', 'ballnumber', 'batter', 'bowler',\n",
              "       'non-striker', 'extra_type', 'batsman_run', 'extras_run', 'total_run',\n",
              "       'non_boundary', 'isWicketDelivery', 'player_out', 'kind',\n",
              "       'fielders_involved', 'BattingTeam'],\n",
              "      dtype='object')"
            ]
          },
          "metadata": {},
          "execution_count": 10
        }
      ]
    },
    {
      "cell_type": "code",
      "source": [
        "df[\"total_run\"].unique()"
      ],
      "metadata": {
        "colab": {
          "base_uri": "https://localhost:8080/"
        },
        "id": "lcooh7RfPPNl",
        "outputId": "5b180226-a56c-46b1-ff0f-248edda81371"
      },
      "execution_count": 14,
      "outputs": [
        {
          "output_type": "execute_result",
          "data": {
            "text/plain": [
              "array([0, 1, 4, 6, 3, 2, 5, 7])"
            ]
          },
          "metadata": {},
          "execution_count": 14
        }
      ]
    },
    {
      "cell_type": "markdown",
      "source": [
        "Starting off with total_run column and there seems to be runs like 5 and 7 on few cases in a single ball. Lets look into the same."
      ],
      "metadata": {
        "id": "hFxU-XKqiwk-"
      }
    },
    {
      "cell_type": "code",
      "source": [
        "(df['total_run']==7).sum()"
      ],
      "metadata": {
        "colab": {
          "base_uri": "https://localhost:8080/"
        },
        "id": "NBYNIk1xPdUB",
        "outputId": "972257d9-b11e-43d9-dac1-7f97ddddfe79"
      },
      "execution_count": 22,
      "outputs": [
        {
          "output_type": "execute_result",
          "data": {
            "text/plain": [
              "64"
            ]
          },
          "metadata": {},
          "execution_count": 22
        }
      ]
    },
    {
      "cell_type": "markdown",
      "source": [
        "There seems to be 64 occurences of 7 runs. Also listing top 4 batsman and bowler who scored and gave 7 runs."
      ],
      "metadata": {
        "id": "yptG2myJjLmc"
      }
    },
    {
      "cell_type": "code",
      "source": [
        "df[df['total_run']==7].batter.value_counts()[:5]"
      ],
      "metadata": {
        "colab": {
          "base_uri": "https://localhost:8080/"
        },
        "id": "UtlEB8FtUvgd",
        "outputId": "365ecf09-a5d9-486c-dd9a-e3ff0a62c809"
      },
      "execution_count": 127,
      "outputs": [
        {
          "output_type": "execute_result",
          "data": {
            "text/plain": [
              "batter\n",
              "CH Gayle          5\n",
              "AB de Villiers    3\n",
              "MS Dhoni          3\n",
              "DA Warner         3\n",
              "KA Pollard        3\n",
              "Name: count, dtype: int64"
            ]
          },
          "metadata": {},
          "execution_count": 127
        }
      ]
    },
    {
      "cell_type": "code",
      "source": [
        "df[df['total_run']==7].bowler.value_counts()[:5]\n"
      ],
      "metadata": {
        "colab": {
          "base_uri": "https://localhost:8080/"
        },
        "id": "M1woqyXFQ7dL",
        "outputId": "3f50e71d-8950-4e1f-c057-307dd69b5756"
      },
      "execution_count": 128,
      "outputs": [
        {
          "output_type": "execute_result",
          "data": {
            "text/plain": [
              "bowler\n",
              "MM Patel          3\n",
              "Mohammed Siraj    3\n",
              "KMA Paul          2\n",
              "SL Malinga        2\n",
              "MJ McClenaghan    2\n",
              "Name: count, dtype: int64"
            ]
          },
          "metadata": {},
          "execution_count": 128
        }
      ]
    },
    {
      "cell_type": "code",
      "source": [
        "#Lets try to check bowler and batter combination for 7 runs\n",
        "grouped=df[df[\"total_run\"]==7].groupby([\"total_run\",\"batter\",\"bowler\"]).size()\n",
        "print(grouped)"
      ],
      "metadata": {
        "colab": {
          "base_uri": "https://localhost:8080/"
        },
        "id": "bfrpx4UDSS07",
        "outputId": "5c6e7ccc-c263-4773-890e-da8fd99216bc"
      },
      "execution_count": 129,
      "outputs": [
        {
          "output_type": "stream",
          "name": "stdout",
          "text": [
            "total_run  batter          bowler         \n",
            "7          AB de Villiers  AN Ahmed           1\n",
            "                           L Balaji           1\n",
            "                           MM Patel           1\n",
            "           AD Russell      Mohammed Siraj     1\n",
            "           AJ Finch        V Shankar          1\n",
            "                                             ..\n",
            "           SW Billings     Avesh Khan         1\n",
            "           V Kohli         KC Cariappa        1\n",
            "           V Sehwag        Joginder Sharma    1\n",
            "           VVS Laxman      A Mithun           1\n",
            "           WPUJC Vaas      VY Mahesh          1\n",
            "Length: 63, dtype: int64\n"
          ]
        }
      ]
    },
    {
      "cell_type": "code",
      "source": [
        "#Just checking how data looks like when 7 runs are scored. Extra_type in all these cases has been no balls\n",
        "df[(df['batter'] == 'CH Gayle') & (df['total_run'] == 7)]\n"
      ],
      "metadata": {
        "colab": {
          "base_uri": "https://localhost:8080/",
          "height": 417
        },
        "id": "fl6xfvSEUzsu",
        "outputId": "9e4e6988-e954-4b12-898a-b99e45b8e0a7"
      },
      "execution_count": 130,
      "outputs": [
        {
          "output_type": "execute_result",
          "data": {
            "text/plain": [
              "            ID  innings  overs  ballnumber    batter          bowler  \\\n",
              "138132  598045        1     18           3  CH Gayle         P Awana   \n",
              "147167  598008        2     15           4  CH Gayle       JH Kallis   \n",
              "151875  548372        1     16           3  CH Gayle        UT Yadav   \n",
              "154852  548360        2     10           6  CH Gayle         PP Ojha   \n",
              "172877  501247        2      2           2  CH Gayle  P Parameswaran   \n",
              "\n",
              "           non-striker extra_type  batsman_run  extras_run  total_run  \\\n",
              "138132         V Kohli    noballs            6           1          7   \n",
              "147167  AB de Villiers    noballs            6           1          7   \n",
              "151875         V Kohli    noballs            6           1          7   \n",
              "154852         V Kohli    noballs            6           1          7   \n",
              "172877      TM Dilshan    noballs            6           1          7   \n",
              "\n",
              "        non_boundary  isWicketDelivery player_out kind fielders_involved  \\\n",
              "138132             0                 0        NaN  NaN               NaN   \n",
              "147167             0                 0        NaN  NaN               NaN   \n",
              "151875             0                 0        NaN  NaN               NaN   \n",
              "154852             0                 0        NaN  NaN               NaN   \n",
              "172877             0                 0        NaN  NaN               NaN   \n",
              "\n",
              "                        BattingTeam  \n",
              "138132  Royal Challengers Bangalore  \n",
              "147167  Royal Challengers Bangalore  \n",
              "151875  Royal Challengers Bangalore  \n",
              "154852  Royal Challengers Bangalore  \n",
              "172877  Royal Challengers Bangalore  "
            ],
            "text/html": [
              "\n",
              "  <div id=\"df-75d11e0e-defa-4dc0-a8bb-7b981c0fb2f0\" class=\"colab-df-container\">\n",
              "    <div>\n",
              "<style scoped>\n",
              "    .dataframe tbody tr th:only-of-type {\n",
              "        vertical-align: middle;\n",
              "    }\n",
              "\n",
              "    .dataframe tbody tr th {\n",
              "        vertical-align: top;\n",
              "    }\n",
              "\n",
              "    .dataframe thead th {\n",
              "        text-align: right;\n",
              "    }\n",
              "</style>\n",
              "<table border=\"1\" class=\"dataframe\">\n",
              "  <thead>\n",
              "    <tr style=\"text-align: right;\">\n",
              "      <th></th>\n",
              "      <th>ID</th>\n",
              "      <th>innings</th>\n",
              "      <th>overs</th>\n",
              "      <th>ballnumber</th>\n",
              "      <th>batter</th>\n",
              "      <th>bowler</th>\n",
              "      <th>non-striker</th>\n",
              "      <th>extra_type</th>\n",
              "      <th>batsman_run</th>\n",
              "      <th>extras_run</th>\n",
              "      <th>total_run</th>\n",
              "      <th>non_boundary</th>\n",
              "      <th>isWicketDelivery</th>\n",
              "      <th>player_out</th>\n",
              "      <th>kind</th>\n",
              "      <th>fielders_involved</th>\n",
              "      <th>BattingTeam</th>\n",
              "    </tr>\n",
              "  </thead>\n",
              "  <tbody>\n",
              "    <tr>\n",
              "      <th>138132</th>\n",
              "      <td>598045</td>\n",
              "      <td>1</td>\n",
              "      <td>18</td>\n",
              "      <td>3</td>\n",
              "      <td>CH Gayle</td>\n",
              "      <td>P Awana</td>\n",
              "      <td>V Kohli</td>\n",
              "      <td>noballs</td>\n",
              "      <td>6</td>\n",
              "      <td>1</td>\n",
              "      <td>7</td>\n",
              "      <td>0</td>\n",
              "      <td>0</td>\n",
              "      <td>NaN</td>\n",
              "      <td>NaN</td>\n",
              "      <td>NaN</td>\n",
              "      <td>Royal Challengers Bangalore</td>\n",
              "    </tr>\n",
              "    <tr>\n",
              "      <th>147167</th>\n",
              "      <td>598008</td>\n",
              "      <td>2</td>\n",
              "      <td>15</td>\n",
              "      <td>4</td>\n",
              "      <td>CH Gayle</td>\n",
              "      <td>JH Kallis</td>\n",
              "      <td>AB de Villiers</td>\n",
              "      <td>noballs</td>\n",
              "      <td>6</td>\n",
              "      <td>1</td>\n",
              "      <td>7</td>\n",
              "      <td>0</td>\n",
              "      <td>0</td>\n",
              "      <td>NaN</td>\n",
              "      <td>NaN</td>\n",
              "      <td>NaN</td>\n",
              "      <td>Royal Challengers Bangalore</td>\n",
              "    </tr>\n",
              "    <tr>\n",
              "      <th>151875</th>\n",
              "      <td>548372</td>\n",
              "      <td>1</td>\n",
              "      <td>16</td>\n",
              "      <td>3</td>\n",
              "      <td>CH Gayle</td>\n",
              "      <td>UT Yadav</td>\n",
              "      <td>V Kohli</td>\n",
              "      <td>noballs</td>\n",
              "      <td>6</td>\n",
              "      <td>1</td>\n",
              "      <td>7</td>\n",
              "      <td>0</td>\n",
              "      <td>0</td>\n",
              "      <td>NaN</td>\n",
              "      <td>NaN</td>\n",
              "      <td>NaN</td>\n",
              "      <td>Royal Challengers Bangalore</td>\n",
              "    </tr>\n",
              "    <tr>\n",
              "      <th>154852</th>\n",
              "      <td>548360</td>\n",
              "      <td>2</td>\n",
              "      <td>10</td>\n",
              "      <td>6</td>\n",
              "      <td>CH Gayle</td>\n",
              "      <td>PP Ojha</td>\n",
              "      <td>V Kohli</td>\n",
              "      <td>noballs</td>\n",
              "      <td>6</td>\n",
              "      <td>1</td>\n",
              "      <td>7</td>\n",
              "      <td>0</td>\n",
              "      <td>0</td>\n",
              "      <td>NaN</td>\n",
              "      <td>NaN</td>\n",
              "      <td>NaN</td>\n",
              "      <td>Royal Challengers Bangalore</td>\n",
              "    </tr>\n",
              "    <tr>\n",
              "      <th>172877</th>\n",
              "      <td>501247</td>\n",
              "      <td>2</td>\n",
              "      <td>2</td>\n",
              "      <td>2</td>\n",
              "      <td>CH Gayle</td>\n",
              "      <td>P Parameswaran</td>\n",
              "      <td>TM Dilshan</td>\n",
              "      <td>noballs</td>\n",
              "      <td>6</td>\n",
              "      <td>1</td>\n",
              "      <td>7</td>\n",
              "      <td>0</td>\n",
              "      <td>0</td>\n",
              "      <td>NaN</td>\n",
              "      <td>NaN</td>\n",
              "      <td>NaN</td>\n",
              "      <td>Royal Challengers Bangalore</td>\n",
              "    </tr>\n",
              "  </tbody>\n",
              "</table>\n",
              "</div>\n",
              "    <div class=\"colab-df-buttons\">\n",
              "\n",
              "  <div class=\"colab-df-container\">\n",
              "    <button class=\"colab-df-convert\" onclick=\"convertToInteractive('df-75d11e0e-defa-4dc0-a8bb-7b981c0fb2f0')\"\n",
              "            title=\"Convert this dataframe to an interactive table.\"\n",
              "            style=\"display:none;\">\n",
              "\n",
              "  <svg xmlns=\"http://www.w3.org/2000/svg\" height=\"24px\" viewBox=\"0 -960 960 960\">\n",
              "    <path d=\"M120-120v-720h720v720H120Zm60-500h600v-160H180v160Zm220 220h160v-160H400v160Zm0 220h160v-160H400v160ZM180-400h160v-160H180v160Zm440 0h160v-160H620v160ZM180-180h160v-160H180v160Zm440 0h160v-160H620v160Z\"/>\n",
              "  </svg>\n",
              "    </button>\n",
              "\n",
              "  <style>\n",
              "    .colab-df-container {\n",
              "      display:flex;\n",
              "      gap: 12px;\n",
              "    }\n",
              "\n",
              "    .colab-df-convert {\n",
              "      background-color: #E8F0FE;\n",
              "      border: none;\n",
              "      border-radius: 50%;\n",
              "      cursor: pointer;\n",
              "      display: none;\n",
              "      fill: #1967D2;\n",
              "      height: 32px;\n",
              "      padding: 0 0 0 0;\n",
              "      width: 32px;\n",
              "    }\n",
              "\n",
              "    .colab-df-convert:hover {\n",
              "      background-color: #E2EBFA;\n",
              "      box-shadow: 0px 1px 2px rgba(60, 64, 67, 0.3), 0px 1px 3px 1px rgba(60, 64, 67, 0.15);\n",
              "      fill: #174EA6;\n",
              "    }\n",
              "\n",
              "    .colab-df-buttons div {\n",
              "      margin-bottom: 4px;\n",
              "    }\n",
              "\n",
              "    [theme=dark] .colab-df-convert {\n",
              "      background-color: #3B4455;\n",
              "      fill: #D2E3FC;\n",
              "    }\n",
              "\n",
              "    [theme=dark] .colab-df-convert:hover {\n",
              "      background-color: #434B5C;\n",
              "      box-shadow: 0px 1px 3px 1px rgba(0, 0, 0, 0.15);\n",
              "      filter: drop-shadow(0px 1px 2px rgba(0, 0, 0, 0.3));\n",
              "      fill: #FFFFFF;\n",
              "    }\n",
              "  </style>\n",
              "\n",
              "    <script>\n",
              "      const buttonEl =\n",
              "        document.querySelector('#df-75d11e0e-defa-4dc0-a8bb-7b981c0fb2f0 button.colab-df-convert');\n",
              "      buttonEl.style.display =\n",
              "        google.colab.kernel.accessAllowed ? 'block' : 'none';\n",
              "\n",
              "      async function convertToInteractive(key) {\n",
              "        const element = document.querySelector('#df-75d11e0e-defa-4dc0-a8bb-7b981c0fb2f0');\n",
              "        const dataTable =\n",
              "          await google.colab.kernel.invokeFunction('convertToInteractive',\n",
              "                                                    [key], {});\n",
              "        if (!dataTable) return;\n",
              "\n",
              "        const docLinkHtml = 'Like what you see? Visit the ' +\n",
              "          '<a target=\"_blank\" href=https://colab.research.google.com/notebooks/data_table.ipynb>data table notebook</a>'\n",
              "          + ' to learn more about interactive tables.';\n",
              "        element.innerHTML = '';\n",
              "        dataTable['output_type'] = 'display_data';\n",
              "        await google.colab.output.renderOutput(dataTable, element);\n",
              "        const docLink = document.createElement('div');\n",
              "        docLink.innerHTML = docLinkHtml;\n",
              "        element.appendChild(docLink);\n",
              "      }\n",
              "    </script>\n",
              "  </div>\n",
              "\n",
              "\n",
              "<div id=\"df-7c1f0707-a823-4fc5-b506-944d54ff49c3\">\n",
              "  <button class=\"colab-df-quickchart\" onclick=\"quickchart('df-7c1f0707-a823-4fc5-b506-944d54ff49c3')\"\n",
              "            title=\"Suggest charts\"\n",
              "            style=\"display:none;\">\n",
              "\n",
              "<svg xmlns=\"http://www.w3.org/2000/svg\" height=\"24px\"viewBox=\"0 0 24 24\"\n",
              "     width=\"24px\">\n",
              "    <g>\n",
              "        <path d=\"M19 3H5c-1.1 0-2 .9-2 2v14c0 1.1.9 2 2 2h14c1.1 0 2-.9 2-2V5c0-1.1-.9-2-2-2zM9 17H7v-7h2v7zm4 0h-2V7h2v10zm4 0h-2v-4h2v4z\"/>\n",
              "    </g>\n",
              "</svg>\n",
              "  </button>\n",
              "\n",
              "<style>\n",
              "  .colab-df-quickchart {\n",
              "      --bg-color: #E8F0FE;\n",
              "      --fill-color: #1967D2;\n",
              "      --hover-bg-color: #E2EBFA;\n",
              "      --hover-fill-color: #174EA6;\n",
              "      --disabled-fill-color: #AAA;\n",
              "      --disabled-bg-color: #DDD;\n",
              "  }\n",
              "\n",
              "  [theme=dark] .colab-df-quickchart {\n",
              "      --bg-color: #3B4455;\n",
              "      --fill-color: #D2E3FC;\n",
              "      --hover-bg-color: #434B5C;\n",
              "      --hover-fill-color: #FFFFFF;\n",
              "      --disabled-bg-color: #3B4455;\n",
              "      --disabled-fill-color: #666;\n",
              "  }\n",
              "\n",
              "  .colab-df-quickchart {\n",
              "    background-color: var(--bg-color);\n",
              "    border: none;\n",
              "    border-radius: 50%;\n",
              "    cursor: pointer;\n",
              "    display: none;\n",
              "    fill: var(--fill-color);\n",
              "    height: 32px;\n",
              "    padding: 0;\n",
              "    width: 32px;\n",
              "  }\n",
              "\n",
              "  .colab-df-quickchart:hover {\n",
              "    background-color: var(--hover-bg-color);\n",
              "    box-shadow: 0 1px 2px rgba(60, 64, 67, 0.3), 0 1px 3px 1px rgba(60, 64, 67, 0.15);\n",
              "    fill: var(--button-hover-fill-color);\n",
              "  }\n",
              "\n",
              "  .colab-df-quickchart-complete:disabled,\n",
              "  .colab-df-quickchart-complete:disabled:hover {\n",
              "    background-color: var(--disabled-bg-color);\n",
              "    fill: var(--disabled-fill-color);\n",
              "    box-shadow: none;\n",
              "  }\n",
              "\n",
              "  .colab-df-spinner {\n",
              "    border: 2px solid var(--fill-color);\n",
              "    border-color: transparent;\n",
              "    border-bottom-color: var(--fill-color);\n",
              "    animation:\n",
              "      spin 1s steps(1) infinite;\n",
              "  }\n",
              "\n",
              "  @keyframes spin {\n",
              "    0% {\n",
              "      border-color: transparent;\n",
              "      border-bottom-color: var(--fill-color);\n",
              "      border-left-color: var(--fill-color);\n",
              "    }\n",
              "    20% {\n",
              "      border-color: transparent;\n",
              "      border-left-color: var(--fill-color);\n",
              "      border-top-color: var(--fill-color);\n",
              "    }\n",
              "    30% {\n",
              "      border-color: transparent;\n",
              "      border-left-color: var(--fill-color);\n",
              "      border-top-color: var(--fill-color);\n",
              "      border-right-color: var(--fill-color);\n",
              "    }\n",
              "    40% {\n",
              "      border-color: transparent;\n",
              "      border-right-color: var(--fill-color);\n",
              "      border-top-color: var(--fill-color);\n",
              "    }\n",
              "    60% {\n",
              "      border-color: transparent;\n",
              "      border-right-color: var(--fill-color);\n",
              "    }\n",
              "    80% {\n",
              "      border-color: transparent;\n",
              "      border-right-color: var(--fill-color);\n",
              "      border-bottom-color: var(--fill-color);\n",
              "    }\n",
              "    90% {\n",
              "      border-color: transparent;\n",
              "      border-bottom-color: var(--fill-color);\n",
              "    }\n",
              "  }\n",
              "</style>\n",
              "\n",
              "  <script>\n",
              "    async function quickchart(key) {\n",
              "      const quickchartButtonEl =\n",
              "        document.querySelector('#' + key + ' button');\n",
              "      quickchartButtonEl.disabled = true;  // To prevent multiple clicks.\n",
              "      quickchartButtonEl.classList.add('colab-df-spinner');\n",
              "      try {\n",
              "        const charts = await google.colab.kernel.invokeFunction(\n",
              "            'suggestCharts', [key], {});\n",
              "      } catch (error) {\n",
              "        console.error('Error during call to suggestCharts:', error);\n",
              "      }\n",
              "      quickchartButtonEl.classList.remove('colab-df-spinner');\n",
              "      quickchartButtonEl.classList.add('colab-df-quickchart-complete');\n",
              "    }\n",
              "    (() => {\n",
              "      let quickchartButtonEl =\n",
              "        document.querySelector('#df-7c1f0707-a823-4fc5-b506-944d54ff49c3 button');\n",
              "      quickchartButtonEl.style.display =\n",
              "        google.colab.kernel.accessAllowed ? 'block' : 'none';\n",
              "    })();\n",
              "  </script>\n",
              "</div>\n",
              "\n",
              "    </div>\n",
              "  </div>\n"
            ],
            "application/vnd.google.colaboratory.intrinsic+json": {
              "type": "dataframe",
              "repr_error": "0"
            }
          },
          "metadata": {},
          "execution_count": 130
        }
      ]
    },
    {
      "cell_type": "markdown",
      "source": [
        "Looking further into this column and looks like noballs or penalty."
      ],
      "metadata": {
        "id": "ZCwaegNykCSt"
      }
    },
    {
      "cell_type": "code",
      "source": [
        "\n",
        "df[df['total_run']==7].extra_type.value_counts()"
      ],
      "metadata": {
        "colab": {
          "base_uri": "https://localhost:8080/"
        },
        "id": "Xvs0jj02Tvk3",
        "outputId": "63625fcf-05a2-47cf-e46e-060ca2b70f11"
      },
      "execution_count": 59,
      "outputs": [
        {
          "output_type": "execute_result",
          "data": {
            "text/plain": [
              "extra_type\n",
              "noballs    63\n",
              "penalty     1\n",
              "Name: count, dtype: int64"
            ]
          },
          "metadata": {},
          "execution_count": 59
        }
      ]
    },
    {
      "cell_type": "code",
      "source": [
        "value_counts = df[df['total_run']==7].extra_type.value_counts()\n",
        "\n",
        "# Plotting the pie chart\n",
        "plt.figure(figsize=(4, 4))\n",
        "plt.pie(value_counts, labels=value_counts.index, autopct='%1.1f%%', startangle=140)\n",
        "plt.title('Causes for scoring 7 runs')\n",
        "plt.show()"
      ],
      "metadata": {
        "colab": {
          "base_uri": "https://localhost:8080/",
          "height": 367
        },
        "id": "6r2-SeKCWZe-",
        "outputId": "57755f2c-28aa-4db3-ad94-d074aad4078f"
      },
      "execution_count": 62,
      "outputs": [
        {
          "output_type": "display_data",
          "data": {
            "text/plain": [
              "<Figure size 400x400 with 1 Axes>"
            ],
            "image/png": "[encoded data removed]"
          },
          "metadata": {}
        }
      ]
    },
    {
      "cell_type": "markdown",
      "source": [
        "Looking into scores of 7 and 5 and extra_type"
      ],
      "metadata": {
        "id": "uGu5QmJFkMbX"
      }
    },
    {
      "cell_type": "code",
      "source": [
        "value_counts=df[df['total_run'].isin([7, 5])].extra_type.value_counts()\n",
        "\n",
        "\n",
        "# Plotting the pie chart\n",
        "plt.figure(figsize=(8, 8))\n",
        "plt.bar(x=value_counts.index, height=value_counts)\n",
        "plt.title('Causes for scoring 7 runs')\n",
        "plt.show()"
      ],
      "metadata": {
        "colab": {
          "base_uri": "https://localhost:8080/",
          "height": 699
        },
        "id": "oPII2ZGQW05J",
        "outputId": "e96a221b-f30d-4e62-ed42-ecb644a1acf2"
      },
      "execution_count": 81,
      "outputs": [
        {
          "output_type": "display_data",
          "data": {
            "text/plain": [
              "<Figure size 800x800 with 1 Axes>"
            ],
            "image/png": "[encoded data removed]"
          },
          "metadata": {}
        }
      ]
    },
    {
      "cell_type": "markdown",
      "source": [
        "On plotting, it looks like major causes for 5 seems to be wides and 7 seems to be noball"
      ],
      "metadata": {
        "id": "Y4824y8LkW2I"
      }
    },
    {
      "cell_type": "code",
      "source": [
        "\n",
        "filtered_df = df[df['total_run'].isin([7, 5])]\n",
        "\n",
        "# Then, get the value counts of 'extra_type' for each 'total_run'\n",
        "value_counts = filtered_df['extra_type'].value_counts().reset_index()\n",
        "value_counts.columns = ['extra_type', 'counts']  # Renaming columns for clarity\n",
        "\n",
        "# Now, merge the counts back to the filtered DataFrame to get 'total_run' for each 'extra_type'\n",
        "merged_df = pd.merge(filtered_df, value_counts, on='extra_type')\n",
        "\n",
        "plt.figure(figsize=(10, 6))\n",
        "sns.barplot(data=merged_df, x='extra_type', y='counts', hue='total_run')\n",
        "plt.title('Counts of Extra Types for Total Runs of 7 and 5')\n",
        "plt.xlabel('Extra Type')\n",
        "plt.ylabel('Counts')\n",
        "plt.legend(title='Total Run')\n",
        "plt.show()\n"
      ],
      "metadata": {
        "colab": {
          "base_uri": "https://localhost:8080/",
          "height": 564
        },
        "id": "TaB7eMjaY5iv",
        "outputId": "c0afabec-a81c-49ea-d08b-c7f70adccd12"
      },
      "execution_count": 83,
      "outputs": [
        {
          "output_type": "display_data",
          "data": {
            "text/plain": [
              "<Figure size 1000x600 with 1 Axes>"
            ],
            "image/png": "[encoded data removed]"
          },
          "metadata": {}
        }
      ]
    },
    {
      "cell_type": "markdown",
      "source": [
        "Moving on to the next feature kind, there seems to be causes for wicket, plotting the same"
      ],
      "metadata": {
        "id": "xlHFNth5hzYS"
      }
    },
    {
      "cell_type": "code",
      "source": [
        "df['kind'].unique()"
      ],
      "metadata": {
        "colab": {
          "base_uri": "https://localhost:8080/"
        },
        "id": "xc0kYs90O_s-",
        "outputId": "94fce1a1-39d1-40cd-ae26-5cad29f0618b"
      },
      "execution_count": 11,
      "outputs": [
        {
          "output_type": "execute_result",
          "data": {
            "text/plain": [
              "array([nan, 'caught', 'caught and bowled', 'run out', 'bowled', 'stumped',\n",
              "       'lbw', 'hit wicket', 'retired hurt', 'retired out',\n",
              "       'obstructing the field'], dtype=object)"
            ]
          },
          "metadata": {},
          "execution_count": 11
        }
      ]
    },
    {
      "cell_type": "code",
      "source": [
        "out=df.kind.value_counts()"
      ],
      "metadata": {
        "id": "gxZTOAfJZn2X"
      },
      "execution_count": 86,
      "outputs": []
    },
    {
      "cell_type": "code",
      "source": [
        "plt.figure(figsize=(8,8))  # Set the figure size\n",
        "plt.pie(out, autopct='%1.2f%%', startangle=140)\n",
        "plt.legend(out.index, title=\"Extra Types\", loc=\"center left\", bbox_to_anchor=(1, 0, 0.5, 1))\n",
        "plt.title('Distribution of wicket causes')\n",
        "plt.show()\n"
      ],
      "metadata": {
        "colab": {
          "base_uri": "https://localhost:8080/",
          "height": 675
        },
        "id": "kHP8Xy7WZvuL",
        "outputId": "8a88cd80-aa04-4fa1-93c4-aa1ddac8bf7c"
      },
      "execution_count": 98,
      "outputs": [
        {
          "output_type": "display_data",
          "data": {
            "text/plain": [
              "<Figure size 800x800 with 1 Axes>"
            ],
            "image/png": "[encoded data removed]"
          },
          "metadata": {}
        }
      ]
    },
    {
      "cell_type": "markdown",
      "source": [
        "Lets find out the batsman and non striker who has scored 3 runs majorly."
      ],
      "metadata": {
        "id": "bkCdhw-CkweV"
      }
    },
    {
      "cell_type": "code",
      "source": [
        "batsman=df[df['batsman_run']==3].batter.value_counts()\n",
        "plt.figure(figsize=(8, 8))\n",
        "plt.bar(x=batsman[:5].index, height=batsman[:5])\n",
        "plt.title('Top 5 batsman scoring 3 runs')\n",
        "plt.show()"
      ],
      "metadata": {
        "colab": {
          "base_uri": "https://localhost:8080/",
          "height": 699
        },
        "id": "1-0k1Bu8bRR2",
        "outputId": "bbdc04fc-0e4f-4acd-e0fa-7a38f1153559"
      },
      "execution_count": 124,
      "outputs": [
        {
          "output_type": "display_data",
          "data": {
            "text/plain": [
              "<Figure size 800x800 with 1 Axes>"
            ],
            "image/png": "[encoded data removed]"
          },
          "metadata": {}
        }
      ]
    },
    {
      "cell_type": "code",
      "source": [
        "nonstriker=df[df['batsman_run']==3]['non-striker'].value_counts()"
      ],
      "metadata": {
        "id": "HISBVBrDdImg"
      },
      "execution_count": 120,
      "outputs": []
    },
    {
      "cell_type": "code",
      "source": [
        "plt.figure(figsize=(8, 8))\n",
        "plt.bar(x=nonstriker[:5].index, height=nonstriker[:5])\n",
        "plt.title('Top 5 Non strikers scoring 3 runs')\n",
        "plt.show()"
      ],
      "metadata": {
        "colab": {
          "base_uri": "https://localhost:8080/",
          "height": 699
        },
        "id": "Bz0LmnGMdcKz",
        "outputId": "b285ebfa-0084-4e49-e8b8-ff78315ac398"
      },
      "execution_count": 125,
      "outputs": [
        {
          "output_type": "display_data",
          "data": {
            "text/plain": [
              "<Figure size 800x800 with 1 Axes>"
            ],
            "image/png": "[encoded data removed]"
          },
          "metadata": {}
        }
      ]
    },
    {
      "cell_type": "code",
      "source": [
        "df[df[\"batsman_run\"]==3].groupby([\"total_run\",\"batter\",\"non-striker\"]).size()\n"
      ],
      "metadata": {
        "colab": {
          "base_uri": "https://localhost:8080/"
        },
        "id": "vnr9cLjWbrd-",
        "outputId": "3d72a5bb-1203-4e60-86a5-8cd2ccd15200"
      },
      "execution_count": 110,
      "outputs": [
        {
          "output_type": "execute_result",
          "data": {
            "text/plain": [
              "total_run  batter          non-striker     \n",
              "3          A Ashish Reddy  DJG Sammy           1\n",
              "           A Flintoff      ML Hayden           1\n",
              "           A Nortje        K Rabada            2\n",
              "           A Symonds       AT Rayudu           1\n",
              "                           RG Sharma           2\n",
              "                                              ..\n",
              "           YS Chahal       PA Patel            1\n",
              "           Yashpal Singh   BJ Hodge            1\n",
              "           Yuvraj Singh    DPMD Jayawardene    1\n",
              "                           RV Uthappa          1\n",
              "                           V Kohli             1\n",
              "Length: 570, dtype: int64"
            ]
          },
          "metadata": {},
          "execution_count": 110
        }
      ]
    }
  ]
}